{
 "cells": [
  {
   "cell_type": "code",
   "execution_count": 1,
   "id": "8c15fbd9-dd61-45fd-9992-8e088b126fd6",
   "metadata": {},
   "outputs": [],
   "source": [
    "import pandas as pd"
   ]
  },
  {
   "cell_type": "code",
   "execution_count": 2,
   "id": "8f96f24c-1d7a-4f3c-b834-2cf06ec03298",
   "metadata": {},
   "outputs": [],
   "source": [
    "raw = pd.read_csv('https://hilpisch.com/pyalgo_eikon_eod_data.csv',index_col=0,parse_dates=True).dropna()"
   ]
  },
  {
   "cell_type": "code",
   "execution_count": 3,
   "id": "21db2b85-794b-4a4b-a13a-94d0780ee91b",
   "metadata": {},
   "outputs": [
    {
     "name": "stdout",
     "output_type": "stream",
     "text": [
      "<class 'pandas.core.frame.DataFrame'>\n",
      "DatetimeIndex: 2516 entries, 2010-01-04 to 2019-12-31\n",
      "Data columns (total 12 columns):\n",
      " #   Column  Non-Null Count  Dtype  \n",
      "---  ------  --------------  -----  \n",
      " 0   AAPL.O  2516 non-null   float64\n",
      " 1   MSFT.O  2516 non-null   float64\n",
      " 2   INTC.O  2516 non-null   float64\n",
      " 3   AMZN.O  2516 non-null   float64\n",
      " 4   GS.N    2516 non-null   float64\n",
      " 5   SPY     2516 non-null   float64\n",
      " 6   .SPX    2516 non-null   float64\n",
      " 7   .VIX    2516 non-null   float64\n",
      " 8   EUR=    2516 non-null   float64\n",
      " 9   XAU=    2516 non-null   float64\n",
      " 10  GDX     2516 non-null   float64\n",
      " 11  GLD     2516 non-null   float64\n",
      "dtypes: float64(12)\n",
      "memory usage: 255.5 KB\n"
     ]
    }
   ],
   "source": [
    "raw.info()"
   ]
  },
  {
   "cell_type": "code",
   "execution_count": 4,
   "id": "b22410b6-0f42-4ef9-b2fd-eb21aedd015c",
   "metadata": {},
   "outputs": [],
   "source": [
    "data = pd.DataFrame(raw['EUR='])"
   ]
  },
  {
   "cell_type": "code",
   "execution_count": 6,
   "id": "0635b874-7ad4-4845-9734-a9c0ac392235",
   "metadata": {},
   "outputs": [],
   "source": [
    "data.rename(columns={'EUR=': 'price'}, inplace=True)"
   ]
  },
  {
   "cell_type": "code",
   "execution_count": 7,
   "id": "fa3c4887-a803-445a-b9d2-b5880f006068",
   "metadata": {},
   "outputs": [],
   "source": [
    "data['SMA1'] = data['price'].rolling(42).mean()\n",
    "data['SMA2'] = data['price'].rolling(252).mean()"
   ]
  },
  {
   "cell_type": "code",
   "execution_count": 8,
   "id": "eba4021a-978a-4329-a8b9-466d2b025366",
   "metadata": {},
   "outputs": [
    {
     "data": {
      "text/html": [
       "<div>\n",
       "<style scoped>\n",
       "    .dataframe tbody tr th:only-of-type {\n",
       "        vertical-align: middle;\n",
       "    }\n",
       "\n",
       "    .dataframe tbody tr th {\n",
       "        vertical-align: top;\n",
       "    }\n",
       "\n",
       "    .dataframe thead th {\n",
       "        text-align: right;\n",
       "    }\n",
       "</style>\n",
       "<table border=\"1\" class=\"dataframe\">\n",
       "  <thead>\n",
       "    <tr style=\"text-align: right;\">\n",
       "      <th></th>\n",
       "      <th>price</th>\n",
       "      <th>SMA1</th>\n",
       "      <th>SMA2</th>\n",
       "    </tr>\n",
       "    <tr>\n",
       "      <th>Date</th>\n",
       "      <th></th>\n",
       "      <th></th>\n",
       "      <th></th>\n",
       "    </tr>\n",
       "  </thead>\n",
       "  <tbody>\n",
       "    <tr>\n",
       "      <th>2019-12-24</th>\n",
       "      <td>1.1087</td>\n",
       "      <td>1.107698</td>\n",
       "      <td>1.119630</td>\n",
       "    </tr>\n",
       "    <tr>\n",
       "      <th>2019-12-26</th>\n",
       "      <td>1.1096</td>\n",
       "      <td>1.107740</td>\n",
       "      <td>1.119529</td>\n",
       "    </tr>\n",
       "    <tr>\n",
       "      <th>2019-12-27</th>\n",
       "      <td>1.1175</td>\n",
       "      <td>1.107924</td>\n",
       "      <td>1.119428</td>\n",
       "    </tr>\n",
       "    <tr>\n",
       "      <th>2019-12-30</th>\n",
       "      <td>1.1197</td>\n",
       "      <td>1.108131</td>\n",
       "      <td>1.119333</td>\n",
       "    </tr>\n",
       "    <tr>\n",
       "      <th>2019-12-31</th>\n",
       "      <td>1.1210</td>\n",
       "      <td>1.108279</td>\n",
       "      <td>1.119231</td>\n",
       "    </tr>\n",
       "  </tbody>\n",
       "</table>\n",
       "</div>"
      ],
      "text/plain": [
       "             price      SMA1      SMA2\n",
       "Date                                  \n",
       "2019-12-24  1.1087  1.107698  1.119630\n",
       "2019-12-26  1.1096  1.107740  1.119529\n",
       "2019-12-27  1.1175  1.107924  1.119428\n",
       "2019-12-30  1.1197  1.108131  1.119333\n",
       "2019-12-31  1.1210  1.108279  1.119231"
      ]
     },
     "execution_count": 8,
     "metadata": {},
     "output_type": "execute_result"
    }
   ],
   "source": [
    "data.tail()"
   ]
  },
  {
   "cell_type": "code",
   "execution_count": 11,
   "id": "0ca2da6b-730e-4699-a1c0-034dd869c263",
   "metadata": {},
   "outputs": [],
   "source": [
    "%matplotlib inline\n",
    "from pylab import mpl, plt"
   ]
  },
  {
   "cell_type": "code",
   "execution_count": null,
   "id": "98aa7e5a-b4f1-4f50-8460-84b3abd3b37d",
   "metadata": {},
   "outputs": [],
   "source": []
  }
 ],
 "metadata": {
  "kernelspec": {
   "display_name": "Python 3 (ipykernel)",
   "language": "python",
   "name": "python3"
  },
  "language_info": {
   "codemirror_mode": {
    "name": "ipython",
    "version": 3
   },
   "file_extension": ".py",
   "mimetype": "text/x-python",
   "name": "python",
   "nbconvert_exporter": "python",
   "pygments_lexer": "ipython3",
   "version": "3.8.13"
  }
 },
 "nbformat": 4,
 "nbformat_minor": 5
}
